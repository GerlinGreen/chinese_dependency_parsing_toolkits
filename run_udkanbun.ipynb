{
 "cells": [
  {
   "cell_type": "code",
   "execution_count": 43,
   "id": "2f59ee56",
   "metadata": {},
   "outputs": [
    {
     "name": "stdout",
     "output_type": "stream",
     "text": [
      "Collecting supar\n",
      "  Downloading supar-1.1.4-py3-none-any.whl (93 kB)\n",
      "Requirement already satisfied: transformers>=4.0.0 in d:\\anaconda3\\lib\\site-packages (from supar) (4.20.1)\n",
      "Requirement already satisfied: dill in d:\\anaconda3\\lib\\site-packages (from supar) (0.3.5.1)\n",
      "Collecting stanza\n",
      "  Using cached stanza-1.4.0-py3-none-any.whl (574 kB)\n",
      "Requirement already satisfied: nltk in d:\\anaconda3\\lib\\site-packages (from supar) (3.7)\n",
      "Requirement already satisfied: torch>=1.7.1 in d:\\anaconda3\\lib\\site-packages (from supar) (1.11.0)\n",
      "Requirement already satisfied: typing-extensions in d:\\anaconda3\\lib\\site-packages (from torch>=1.7.1->supar) (4.1.1)\n",
      "Requirement already satisfied: tokenizers!=0.11.3,<0.13,>=0.11.1 in d:\\anaconda3\\lib\\site-packages (from transformers>=4.0.0->supar) (0.12.1)\n",
      "Requirement already satisfied: regex!=2019.12.17 in d:\\anaconda3\\lib\\site-packages (from transformers>=4.0.0->supar) (2022.3.15)\n",
      "Requirement already satisfied: numpy>=1.17 in d:\\anaconda3\\lib\\site-packages (from transformers>=4.0.0->supar) (1.21.5)\n",
      "Requirement already satisfied: huggingface-hub<1.0,>=0.1.0 in d:\\anaconda3\\lib\\site-packages (from transformers>=4.0.0->supar) (0.8.1)\n",
      "Requirement already satisfied: requests in d:\\anaconda3\\lib\\site-packages (from transformers>=4.0.0->supar) (2.28.0)\n",
      "Requirement already satisfied: filelock in d:\\anaconda3\\lib\\site-packages (from transformers>=4.0.0->supar) (3.6.0)\n",
      "Requirement already satisfied: tqdm>=4.27 in d:\\anaconda3\\lib\\site-packages (from transformers>=4.0.0->supar) (4.64.0)\n",
      "Requirement already satisfied: pyyaml>=5.1 in d:\\anaconda3\\lib\\site-packages (from transformers>=4.0.0->supar) (6.0)\n",
      "Requirement already satisfied: packaging>=20.0 in d:\\anaconda3\\lib\\site-packages (from transformers>=4.0.0->supar) (21.3)\n",
      "Requirement already satisfied: pyparsing!=3.0.5,>=2.0.2 in d:\\anaconda3\\lib\\site-packages (from packaging>=20.0->transformers>=4.0.0->supar) (3.0.4)\n",
      "Requirement already satisfied: colorama in d:\\anaconda3\\lib\\site-packages (from tqdm>=4.27->transformers>=4.0.0->supar) (0.4.4)\n",
      "Requirement already satisfied: joblib in d:\\anaconda3\\lib\\site-packages (from nltk->supar) (1.1.0)\n",
      "Requirement already satisfied: click in d:\\anaconda3\\lib\\site-packages (from nltk->supar) (8.0.4)\n",
      "Requirement already satisfied: urllib3<1.27,>=1.21.1 in d:\\anaconda3\\lib\\site-packages (from requests->transformers>=4.0.0->supar) (1.26.9)\n",
      "Requirement already satisfied: idna<4,>=2.5 in d:\\anaconda3\\lib\\site-packages (from requests->transformers>=4.0.0->supar) (2.10)\n",
      "Requirement already satisfied: certifi>=2017.4.17 in d:\\anaconda3\\lib\\site-packages (from requests->transformers>=4.0.0->supar) (2022.6.15)\n",
      "Requirement already satisfied: charset-normalizer~=2.0.0 in d:\\anaconda3\\lib\\site-packages (from requests->transformers>=4.0.0->supar) (2.0.9)\n",
      "Requirement already satisfied: six in d:\\anaconda3\\lib\\site-packages (from stanza->supar) (1.16.0)\n",
      "Requirement already satisfied: protobuf in d:\\anaconda3\\lib\\site-packages (from stanza->supar) (3.20.0)\n",
      "Collecting emoji\n",
      "  Downloading emoji-2.0.0.tar.gz (197 kB)\n",
      "Building wheels for collected packages: emoji\n",
      "  Building wheel for emoji (setup.py): started\n",
      "  Building wheel for emoji (setup.py): finished with status 'done'\n",
      "  Created wheel for emoji: filename=emoji-2.0.0-py3-none-any.whl size=193022 sha256=b127e1938ecdc278052de1a72613bd64e60953fb5f1aeb83ccc1279af2ae5186\n",
      "  Stored in directory: c:\\users\\green\\appdata\\local\\pip\\cache\\wheels\\23\\a5\\a8\\e74bad1ceced228b6ae94dcbacc5c67df6486fd1620714e7d1\n",
      "Successfully built emoji\n",
      "Installing collected packages: emoji, stanza, supar\n",
      "Successfully installed emoji-2.0.0 stanza-1.4.0 supar-1.1.4\n"
     ]
    }
   ],
   "source": [
    "# !pip install MeCab\n",
    "!pip install supar"
   ]
  },
  {
   "cell_type": "code",
   "execution_count": 5,
   "id": "e5971543",
   "metadata": {},
   "outputs": [],
   "source": [
    "import udkanbun"
   ]
  },
  {
   "cell_type": "code",
   "execution_count": 7,
   "id": "d83e378e",
   "metadata": {},
   "outputs": [
    {
     "name": "stdout",
     "output_type": "stream",
     "text": [
      "# text = 太史公曰：五帝、\n",
      "1\t太\t太\tVERB\tv,動詞,描写,量\tDegree=Pos\t2\tamod\t_\tGloss=very-great|SpaceAfter=No\n",
      "2\t史\t史\tNOUN\tn,名詞,人,役割\t_\t3\tnmod\t_\tGloss=recorder|SpaceAfter=No\n",
      "3\t公\t公\tNOUN\tn,名詞,人,役割\t_\t4\tnsubj\t_\tGloss=duke|SpaceAfter=No\n",
      "4\t曰\t曰\tVERB\tv,動詞,行為,伝達\t_\t0\troot\t_\tGloss=say|SpaceAfter=No\n",
      "5\t：\t：\tSYM\ts,記号,一般,*\t_\t7\tnmod\t_\tSpaceAfter=No\n",
      "6\t五\t五\tNUM\tn,数詞,数字,*\t_\t7\tnummod\t_\tGloss=five|SpaceAfter=No\n",
      "7\t帝\t帝\tNOUN\tn,名詞,人,役割\t_\t4\tobj\t_\tGloss=emperor|SpaceAfter=No\n",
      "8\t、\t、\tPUNCT\ts,記号,読点,*\t_\t4\tpunct\t_\tSpaceAfter=No\n",
      "\n",
      "# text = 三代之記，尚矣。\n",
      "1\t三\t三\tNUM\tn,数詞,数字,*\t_\t2\tnummod\t_\tGloss=three|SpaceAfter=No\n",
      "2\t代\t代\tNOUN\tn,名詞,時,*\tCase=Tem\t4\tnsubj\t_\tGloss=generation|SpaceAfter=No\n",
      "3\t之\t之\tSCONJ\tp,助詞,接続,属格\t_\t2\tcase\t_\tGloss='s|SpaceAfter=No\n",
      "4\t記\t記\tVERB\tv,動詞,行為,動作\t_\t6\tnsubj\t_\tGloss=record|SpaceAfter=No|Translit=记\n",
      "5\t，\t，\tPUNCT\ts,記号,読点,*\t_\t6\tadvmod\t_\tSpaceAfter=No\n",
      "6\t尚\t尙\tVERB\tv,動詞,行為,態度\t_\t0\troot\t_\tGloss=esteem|SpaceAfter=No\n",
      "7\t矣\t矣\tPART\tp,助詞,句末,*\t_\t6\tdiscourse:sp\t_\tGloss=[PFV]|SpaceAfter=No\n",
      "8\t。\t。\tPUNCT\ts,記号,句点,*\t_\t6\tpunct\t_\tSpaceAfter=No\n",
      "\n",
      "# text =     自殷以前諸侯不可得而譜，周以來乃頗可著。\n",
      "1\t自\t自\tADP\tv,前置詞,経由,*\t_\t2\tcase\t_\tGloss=from|SpaceAfter=No\n",
      "2\t殷\t殷\tPROPN\tn,名詞,主体,国名\tCase=Loc|NameType=Nat\t3\tadvcl\t_\tGloss=[country-name]|SpaceAfter=No\n",
      "3\t以\t以\tVERB\tv,動詞,行為,動作\t_\t9\tadvcl\t_\tGloss=use|SpaceAfter=No\n",
      "4\t前\t前\tNOUN\tn,名詞,時,*\tCase=Tem\t6\tnmod\t_\tGloss=before|SpaceAfter=No\n",
      "5\t諸\t諸\tNOUN\tn,名詞,数量,*\t_\t6\tnmod\t_\tGloss=[plural]|SpaceAfter=No|Translit=诸\n",
      "6\t侯\t侯\tNOUN\tn,名詞,人,役割\t_\t3\tobj\t_\tGloss=marquis|SpaceAfter=No\n",
      "7\t不\t不\tADV\tv,副詞,否定,無界\tPolarity=Neg\t8\tadvmod\t_\tGloss=not|SpaceAfter=No\n",
      "8\t可\t可\tAUX\tv,助動詞,可能,*\tMood=Pot\t9\taux\t_\tGloss=possible|SpaceAfter=No\n",
      "9\t得\t得\tVERB\tv,動詞,行為,得失\t_\t12\taux\t_\tGloss=get|SpaceAfter=No\n",
      "10\t而\t而\tCCONJ\tp,助詞,接続,並列\t_\t11\tcc\t_\tGloss=and|SpaceAfter=No\n",
      "11\t譜\t譜\tNOUN\tn,名詞,*,*\t_\t9\tconj\t_\tSpaceAfter=No\n",
      "12\t，\t，\tPUNCT\ts,記号,読点,*\t_\t15\tcc\t_\tSpaceAfter=No\n",
      "13\t周\t周\tPROPN\tn,名詞,主体,国名\tCase=Loc|NameType=Nat\t15\tnsubj\t_\tGloss=[country-name]|SpaceAfter=No\n",
      "14\t以\t以\tVERB\tv,動詞,行為,動作\t_\t15\tadvmod\t_\tGloss=use|SpaceAfter=No\n",
      "15\t來\t來\tVERB\tv,動詞,行為,移動\t_\t19\tadvcl\t_\tGloss=come|SpaceAfter=No|Translit=来\n",
      "16\t乃\t乃\tADV\tv,副詞,時相,緊接\tAdvType=Tim\t19\tadvmod\t_\tGloss=then|SpaceAfter=No\n",
      "17\t頗\t頗\tADV\tv,副詞,程度,極度\tAdvType=Deg|Degree=Sup\t19\tadvmod\t_\tGloss=quite|SpaceAfter=No|Translit=颇\n",
      "18\t可\t可\tAUX\tv,助動詞,可能,*\tMood=Pot\t19\taux\t_\tGloss=possible|SpaceAfter=No\n",
      "19\t著\t著\tVERB\tv,動詞,描写,形質\tDegree=Pos\t0\troot\t_\tGloss=appear|SpaceAfter=No\n",
      "20\t。\t。\tPUNCT\ts,記号,句点,*\t_\t19\tpunct\t_\tSpaceAfter=No\n",
      "\n",
      "# text =         孔子因史文次春秋，紀元年，正時日月，蓋其詳哉。\n",
      "1\t孔子\t孔子\tPROPN\tn,名詞,人,複合的人名\tNameType=Prs\t8\tnsubj\t_\tGloss=Confucius|SpaceAfter=No\n",
      "2\t因\t因\tVERB\tv,動詞,行為,動作\t_\t8\tadvcl\t_\tGloss=depend-on|SpaceAfter=No\n",
      "3\t史\t史\tPROPN\tn,名詞,人,姓氏\tNameType=Sur\t2\tobj\t_\tGloss=[surname]|SpaceAfter=No\n",
      "4\t文\t文\tPROPN\tn,名詞,人,名\tNameType=Giv\t3\tflat\t_\tGloss=[given-name]|SpaceAfter=No\n",
      "5\t次\t次\tVERB\tv,動詞,行為,設置\t_\t2\tparataxis\t_\tGloss=arrange-in-order|SpaceAfter=No\n",
      "6\t春秋\t春秋\tNOUN\tn,名詞,主体,書物\t_\t5\tobj\t_\tGloss=[book-name]|SpaceAfter=No\n",
      "7\t，\t，\tPUNCT\ts,記号,読点,*\t_\t8\tadvmod\t_\tSpaceAfter=No\n",
      "8\t紀\t紀\tVERB\tv,動詞,行為,動作\t_\t16\tacl\t_\tGloss=regulate|SpaceAfter=No|Translit=纪\n",
      "9\t元\t元\tNOUN\tn,名詞,描写,形質\t_\t10\tnmod\t_\tGloss=basic|SpaceAfter=No\n",
      "10\t年\t年\tNOUN\tn,名詞,時,*\tCase=Tem\t8\tobj\t_\tGloss=year|SpaceAfter=No\n",
      "11\t，\t，\tPUNCT\ts,記号,読点,*\t_\t12\tcc\t_\tSpaceAfter=No\n",
      "12\t正\t正\tVERB\tv,動詞,描写,形質\tDegree=Pos\t8\tconj\t_\tGloss=correct|SpaceAfter=No\n",
      "13\t時\t時\tNOUN\tn,名詞,時,*\tCase=Tem\t14\tnmod\t_\tGloss=time|SpaceAfter=No|Translit=时\n",
      "14\t日\t日\tNOUN\tn,名詞,天象,天文\t_\t12\tobj\t_\tGloss=sun|SpaceAfter=No\n",
      "15\t月\t月\tNOUN\tn,名詞,天象,天文\t_\t14\tconj\t_\tGloss=moon|SpaceAfter=No\n",
      "16\t，\t，\tPUNCT\ts,記号,読点,*\t_\t19\tadvmod\t_\tSpaceAfter=No\n",
      "17\t蓋\t蓋\tPART\tp,助詞,句頭,*\t_\t19\tdiscourse\t_\tGloss=why-not|SpaceAfter=No|Translit=盖\n",
      "18\t其\t其\tPRON\tn,代名詞,人称,起格\tPerson=3|PronType=Prs\t19\tnsubj\t_\tGloss=[3PRON]|SpaceAfter=No\n",
      "19\t詳\t詳\tVERB\tv,動詞,描写,形質\tDegree=Pos\t0\troot\t_\tGloss=detailed|SpaceAfter=No|Translit=详\n",
      "20\t哉\t哉\tPART\tp,助詞,句末,*\t_\t19\tdiscourse:sp\t_\tGloss=[exclamatory-particle]|SpaceAfter=No\n",
      "21\t。\t。\tPUNCT\ts,記号,句点,*\t_\t19\tpunct\t_\tSpaceAfter=No\n",
      "\n",
      "# text =             至於序尚書則略，無年月；                或頗有，然多闕，不可錄。\n",
      "1\t至\t至\tVERB\tv,動詞,行為,移動\t_\t12\tadvcl\t_\tGloss=arrive|SpaceAfter=No\n",
      "2\t於\t於\tADP\tv,前置詞,基盤,*\t_\t3\tcase\t_\tGloss=at|SpaceAfter=No|Translit=于\n",
      "3\t序\t序\tNOUN\tn,名詞,固定物,関係\tCase=Loc\t1\tobl\t_\tGloss=order|SpaceAfter=No\n",
      "4\t尚\t尙\tVERB\tv,動詞,行為,態度\t_\t5\tamod\t_\tGloss=esteem|SpaceAfter=No\n",
      "5\t書\t書\tNOUN\tn,名詞,主体,書物\t_\t3\tobj\t_\tGloss=written-document|SpaceAfter=No|Translit=书\n",
      "6\t則\t則\tADV\tv,副詞,時相,緊接\tAdvType=Tim\t12\tadvmod\t_\tGloss=then|SpaceAfter=No|Translit=则\n",
      "7\t略\t略\tNOUN\tn,名詞,可搬,伝達\t_\t12\tnsubj\t_\tGloss=plan|SpaceAfter=No\n",
      "8\t，\t，\tPUNCT\ts,記号,読点,*\t_\t12\tadvmod\t_\tSpaceAfter=No\n",
      "9\t無\t無\tVERB\tv,動詞,存在,存在\tPolarity=Neg\t10\tamod\t_\tGloss=not-have|SpaceAfter=No|Translit=无\n",
      "10\t年\t年\tNOUN\tn,名詞,時,*\tCase=Tem\t12\tobl:tmod\t_\tGloss=year|SpaceAfter=No\n",
      "11\t月\t月\tNOUN\tn,名詞,時,*\tCase=Tem\t10\tconj\t_\tGloss=month|SpaceAfter=No\n",
      "12\t；\t；\tSYM\ts,記号,一般,*\t_\t16\tconj\t_\tSpaceAfter=No\n",
      "13\t或\t或\tPRON\tn,代名詞,人称,起格\tPronType=Prs\t15\tnsubj\t_\tGloss=someone|SpaceAfter=No\n",
      "14\t頗\t頗\tADV\tv,副詞,程度,極度\tAdvType=Deg|Degree=Sup\t15\tadvmod\t_\tGloss=quite|SpaceAfter=No|Translit=颇\n",
      "15\t有\t有\tVERB\tv,動詞,存在,存在\t_\t12\tccomp\t_\tGloss=have|SpaceAfter=No\n",
      "16\t，\t，\tPUNCT\ts,記号,読点,*\t_\t20\tadvmod\t_\tSpaceAfter=No\n",
      "17\t然\t然\tPART\tp,接尾辞,*,*\t_\t16\tfixed\t_\tGloss=[suffix]|SpaceAfter=No\n",
      "18\t多\t多\tVERB\tv,動詞,描写,量\tDegree=Pos\t20\tadvmod\t_\tGloss=many|SpaceAfter=No\n",
      "19\t闕\t闕\tPROPN\tn,名詞,固定物,地名\tCase=Loc|NameType=Geo\t18\tobj\t_\tGloss=[place-name]|SpaceAfter=No|Translit=阙\n",
      "20\t，\t，\tPUNCT\ts,記号,読点,*\t_\t23\tadvmod\t_\tSpaceAfter=No\n",
      "21\t不\t不\tADV\tv,副詞,否定,無界\tPolarity=Neg\t22\tadvmod\t_\tGloss=not|SpaceAfter=No\n",
      "22\t可\t可\tAUX\tv,助動詞,可能,*\tMood=Pot\t23\taux\t_\tGloss=possible|SpaceAfter=No\n",
      "23\t錄\t錄\tVERB\tv,動詞,行為,動作\t_\t0\troot\t_\tSpaceAfter=No|Translit=录\n",
      "24\t。\t。\tPUNCT\ts,記号,句点,*\t_\t23\tpunct\t_\tSpaceAfter=No\n",
      "\n",
      "# text = 故疑則傳疑，蓋其慎也。\n",
      "1\t故\t故\tADV\tv,副詞,判断,確定\t_\t2\tadvmod\t_\tGloss=therefore|SpaceAfter=No\n",
      "2\t疑\t疑\tVERB\tv,動詞,行為,態度\t_\t4\tadvcl\t_\tGloss=suspect|SpaceAfter=No\n",
      "3\t則\t則\tADV\tv,副詞,時相,緊接\tAdvType=Tim\t4\tadvmod\t_\tGloss=then|SpaceAfter=No|Translit=则\n",
      "4\t傳\t傳\tVERB\tv,動詞,行為,伝達\t_\t6\tconj\t_\tGloss=transmit|SpaceAfter=No|Translit=传\n",
      "5\t疑\t疑\tVERB\tv,動詞,行為,態度\t_\t4\tobj\t_\tGloss=suspect|SpaceAfter=No\n",
      "6\t，\t，\tPUNCT\ts,記号,読点,*\t_\t9\tadvmod\t_\tSpaceAfter=No\n",
      "7\t蓋\t蓋\tPART\tp,助詞,句頭,*\t_\t9\tdiscourse\t_\tGloss=why-not|SpaceAfter=No|Translit=盖\n",
      "8\t其\t其\tPRON\tn,代名詞,人称,起格\tPerson=3|PronType=Prs\t9\tdet\t_\tGloss=[3PRON]|SpaceAfter=No\n",
      "9\t慎\t愼\tVERB\tv,動詞,行為,態度\t_\t0\troot\t_\tGloss=careful|SpaceAfter=No\n",
      "10\t也\t也\tPART\tp,助詞,句末,*\t_\t9\tdiscourse:sp\t_\tGloss=[final-particle]|SpaceAfter=No\n",
      "11\t。\t。\tPUNCT\ts,記号,句点,*\t_\t9\tpunct\t_\tSpaceAfter=No\n",
      "\n",
      "\n"
     ]
    }
   ],
   "source": [
    "lzh = udkanbun.load()\n",
    "s = lzh(\"太史公曰：五帝、三代之記，尚矣。\\\n",
    "    自殷以前諸侯不可得而譜，周以來乃頗可著。\\\n",
    "        孔子因史文次春秋，紀元年，正時日月，蓋其詳哉。\\\n",
    "            至於序尚書則略，無年月；\\\n",
    "                或頗有，然多闕，不可錄。故疑則傳疑，蓋其慎也。\")\n",
    "\n",
    "print(s)"
   ]
  },
  {
   "cell_type": "code",
   "execution_count": 44,
   "id": "ed933674",
   "metadata": {},
   "outputs": [
    {
     "name": "stderr",
     "output_type": "stream",
     "text": [
      " [==================================================] 100% 00:49   \n"
     ]
    },
    {
     "data": {
      "application/vnd.jupyter.widget-view+json": {
       "model_id": "d4e09a285695426da806896c9e2b0b90",
       "version_major": 2,
       "version_minor": 0
      },
      "text/plain": [
       "Downloading:   0%|          | 0.00/519 [00:00<?, ?B/s]"
      ]
     },
     "metadata": {},
     "output_type": "display_data"
    },
    {
     "data": {
      "application/vnd.jupyter.widget-view+json": {
       "model_id": "db30c540e6b8429f909b5c91bebefb3f",
       "version_major": 2,
       "version_minor": 0
      },
      "text/plain": [
       "Downloading:   0%|          | 0.00/91.3k [00:00<?, ?B/s]"
      ]
     },
     "metadata": {},
     "output_type": "display_data"
    },
    {
     "data": {
      "application/vnd.jupyter.widget-view+json": {
       "model_id": "0265c02e91c444a3b6aba3b01b8c707f",
       "version_major": 2,
       "version_minor": 0
      },
      "text/plain": [
       "Downloading:   0%|          | 0.00/399M [00:00<?, ?B/s]"
      ]
     },
     "metadata": {},
     "output_type": "display_data"
    },
    {
     "name": "stderr",
     "output_type": "stream",
     "text": [
      "Some weights of the model checkpoint at ethanyt/guwenbert-base were not used when initializing RobertaModel: ['lm_head.decoder.bias', 'lm_head.dense.bias', 'lm_head.bias', 'lm_head.dense.weight', 'lm_head.decoder.weight', 'lm_head.layer_norm.bias', 'lm_head.layer_norm.weight']\n",
      "- This IS expected if you are initializing RobertaModel from the checkpoint of a model trained on another task or with another architecture (e.g. initializing a BertForSequenceClassification model from a BertForPreTraining model).\n",
      "- This IS NOT expected if you are initializing RobertaModel from the checkpoint of a model that you expect to be exactly identical (initializing a BertForSequenceClassification model from a BertForSequenceClassification model).\n"
     ]
    },
    {
     "name": "stdout",
     "output_type": "stream",
     "text": [
      "2022-08-23 14:53:18 INFO Loading the data\n"
     ]
    },
    {
     "name": "stderr",
     "output_type": "stream",
     "text": [
      "                                                   \r"
     ]
    },
    {
     "name": "stdout",
     "output_type": "stream",
     "text": [
      "2022-08-23 14:53:18 INFO \n",
      "Dataset(n_sentences=6, n_batches=5, n_buckets=5)\n",
      "2022-08-23 14:53:18 INFO Making predictions on the dataset\n"
     ]
    },
    {
     "name": "stderr",
     "output_type": "stream",
     "text": [
      "                                           \r"
     ]
    },
    {
     "ename": "IndexError",
     "evalue": "pop from empty list",
     "output_type": "error",
     "traceback": [
      "\u001b[1;31m---------------------------------------------------------------------------\u001b[0m",
      "\u001b[1;31mIndexError\u001b[0m                                Traceback (most recent call last)",
      "Input \u001b[1;32mIn [44]\u001b[0m, in \u001b[0;36m<cell line: 2>\u001b[1;34m()\u001b[0m\n\u001b[0;32m      1\u001b[0m lzh2 \u001b[38;5;241m=\u001b[39m udkanbun\u001b[38;5;241m.\u001b[39mload(BERT\u001b[38;5;241m=\u001b[39m\u001b[38;5;124m\"\u001b[39m\u001b[38;5;124mguwenbert-base\u001b[39m\u001b[38;5;124m\"\u001b[39m)\n\u001b[1;32m----> 2\u001b[0m s \u001b[38;5;241m=\u001b[39m \u001b[43mlzh2\u001b[49m\u001b[43m(\u001b[49m\u001b[38;5;124;43m\"\u001b[39;49m\u001b[38;5;124;43m太史公曰：五帝、三代之記，尚矣。\u001b[39;49m\u001b[38;5;130;43;01m\\\u001b[39;49;00m\n\u001b[0;32m      3\u001b[0m \u001b[38;5;124;43m    自殷以前諸侯不可得而譜，周以來乃頗可著。\u001b[39;49m\u001b[38;5;130;43;01m\\\u001b[39;49;00m\n\u001b[0;32m      4\u001b[0m \u001b[38;5;124;43m        孔子因史文次春秋，紀元年，正時日月，蓋其詳哉。\u001b[39;49m\u001b[38;5;130;43;01m\\\u001b[39;49;00m\n\u001b[0;32m      5\u001b[0m \u001b[38;5;124;43m            至於序尚書則略，無年月；\u001b[39;49m\u001b[38;5;130;43;01m\\\u001b[39;49;00m\n\u001b[0;32m      6\u001b[0m \u001b[38;5;124;43m                或頗有，然多闕，不可錄。故疑則傳疑，蓋其慎也。\u001b[39;49m\u001b[38;5;124;43m\"\u001b[39;49m\u001b[43m)\u001b[49m\n\u001b[0;32m      8\u001b[0m \u001b[38;5;28mprint\u001b[39m(s)\n",
      "File \u001b[1;32mD:\\anaconda3\\lib\\site-packages\\udkanbun\\udkanbun.py:202\u001b[0m, in \u001b[0;36mUDKanbun.__call__\u001b[1;34m(self, sentence, raw)\u001b[0m\n\u001b[0;32m    200\u001b[0m   \u001b[38;5;28;01mreturn\u001b[39;00m \u001b[38;5;28mself\u001b[39m\u001b[38;5;241m.\u001b[39mudpipe\u001b[38;5;241m.\u001b[39mprocess(u)\n\u001b[0;32m    201\u001b[0m \u001b[38;5;28;01melse\u001b[39;00m:\n\u001b[1;32m--> 202\u001b[0m   \u001b[38;5;28;01mreturn\u001b[39;00m UDKanbunEntry(\u001b[38;5;28;43mself\u001b[39;49m\u001b[38;5;241;43m.\u001b[39;49m\u001b[43mudpipe\u001b[49m\u001b[38;5;241;43m.\u001b[39;49m\u001b[43mprocess\u001b[49m\u001b[43m(\u001b[49m\u001b[43mu\u001b[49m\u001b[43m)\u001b[49m)\n",
      "File \u001b[1;32mD:\\anaconda3\\lib\\site-packages\\udkanbun\\supar.py:51\u001b[0m, in \u001b[0;36mSuParAPI.process\u001b[1;34m(self, conllu)\u001b[0m\n\u001b[0;32m     49\u001b[0m       j\u001b[38;5;241m=\u001b[39mt[\u001b[38;5;241m9\u001b[39m][i\u001b[38;5;241m+\u001b[39m\u001b[38;5;241m9\u001b[39m:]\n\u001b[0;32m     50\u001b[0m     e\u001b[38;5;241m+\u001b[39m\u001b[38;5;241m=\u001b[39mj\u001b[38;5;241m+\u001b[39m\u001b[38;5;124m\"\u001b[39m\u001b[38;5;124m \u001b[39m\u001b[38;5;124m\"\u001b[39m\n\u001b[1;32m---> 51\u001b[0m d\u001b[38;5;241m=\u001b[39m\u001b[38;5;28;43mself\u001b[39;49m\u001b[38;5;241;43m.\u001b[39;49m\u001b[43msupar\u001b[49m\u001b[38;5;241;43m.\u001b[39;49m\u001b[43mpredict\u001b[49m\u001b[43m(\u001b[49m\u001b[43mu\u001b[49m\u001b[43m,\u001b[49m\u001b[43mlang\u001b[49m\u001b[38;5;241;43m=\u001b[39;49m\u001b[38;5;28;43;01mNone\u001b[39;49;00m\u001b[43m)\u001b[49m\n\u001b[0;32m     52\u001b[0m i\u001b[38;5;241m=\u001b[39mj\u001b[38;5;241m=\u001b[39m\u001b[38;5;241m0\u001b[39m\n\u001b[0;32m     53\u001b[0m \u001b[38;5;28;01mfor\u001b[39;00m k,s \u001b[38;5;129;01min\u001b[39;00m \u001b[38;5;28menumerate\u001b[39m(c):\n",
      "File \u001b[1;32mD:\\anaconda3\\lib\\site-packages\\supar\\parsers\\dep.py:124\u001b[0m, in \u001b[0;36mBiaffineDependencyParser.predict\u001b[1;34m(self, data, pred, lang, buckets, batch_size, prob, tree, proj, verbose, **kwargs)\u001b[0m\n\u001b[0;32m     93\u001b[0m \u001b[38;5;28;01mdef\u001b[39;00m \u001b[38;5;21mpredict\u001b[39m(\u001b[38;5;28mself\u001b[39m, data, pred\u001b[38;5;241m=\u001b[39m\u001b[38;5;28;01mNone\u001b[39;00m, lang\u001b[38;5;241m=\u001b[39m\u001b[38;5;28;01mNone\u001b[39;00m, buckets\u001b[38;5;241m=\u001b[39m\u001b[38;5;241m8\u001b[39m, batch_size\u001b[38;5;241m=\u001b[39m\u001b[38;5;241m5000\u001b[39m, prob\u001b[38;5;241m=\u001b[39m\u001b[38;5;28;01mFalse\u001b[39;00m,\n\u001b[0;32m     94\u001b[0m             tree\u001b[38;5;241m=\u001b[39m\u001b[38;5;28;01mTrue\u001b[39;00m, proj\u001b[38;5;241m=\u001b[39m\u001b[38;5;28;01mFalse\u001b[39;00m, verbose\u001b[38;5;241m=\u001b[39m\u001b[38;5;28;01mTrue\u001b[39;00m, \u001b[38;5;241m*\u001b[39m\u001b[38;5;241m*\u001b[39mkwargs):\n\u001b[0;32m     95\u001b[0m     \u001b[38;5;124mr\u001b[39m\u001b[38;5;124;03m\"\"\"\u001b[39;00m\n\u001b[0;32m     96\u001b[0m \u001b[38;5;124;03m    Args:\u001b[39;00m\n\u001b[0;32m     97\u001b[0m \u001b[38;5;124;03m        data (list[list] or str):\u001b[39;00m\n\u001b[1;32m   (...)\u001b[0m\n\u001b[0;32m    121\u001b[0m \u001b[38;5;124;03m        A :class:`~supar.utils.Dataset` object that stores the predicted results.\u001b[39;00m\n\u001b[0;32m    122\u001b[0m \u001b[38;5;124;03m    \"\"\"\u001b[39;00m\n\u001b[1;32m--> 124\u001b[0m     \u001b[38;5;28;01mreturn\u001b[39;00m \u001b[38;5;28;43msuper\u001b[39;49m\u001b[43m(\u001b[49m\u001b[43m)\u001b[49m\u001b[38;5;241;43m.\u001b[39;49m\u001b[43mpredict\u001b[49m\u001b[43m(\u001b[49m\u001b[38;5;241;43m*\u001b[39;49m\u001b[38;5;241;43m*\u001b[39;49m\u001b[43mConfig\u001b[49m\u001b[43m(\u001b[49m\u001b[43m)\u001b[49m\u001b[38;5;241;43m.\u001b[39;49m\u001b[43mupdate\u001b[49m\u001b[43m(\u001b[49m\u001b[38;5;28;43mlocals\u001b[39;49m\u001b[43m(\u001b[49m\u001b[43m)\u001b[49m\u001b[43m)\u001b[49m\u001b[43m)\u001b[49m\n",
      "File \u001b[1;32mD:\\anaconda3\\lib\\site-packages\\supar\\parsers\\parser.py:137\u001b[0m, in \u001b[0;36mParser.predict\u001b[1;34m(self, data, pred, lang, buckets, batch_size, prob, **kwargs)\u001b[0m\n\u001b[0;32m    135\u001b[0m logger\u001b[38;5;241m.\u001b[39minfo(\u001b[38;5;124m\"\u001b[39m\u001b[38;5;124mMaking predictions on the dataset\u001b[39m\u001b[38;5;124m\"\u001b[39m)\n\u001b[0;32m    136\u001b[0m start \u001b[38;5;241m=\u001b[39m datetime\u001b[38;5;241m.\u001b[39mnow()\n\u001b[1;32m--> 137\u001b[0m preds \u001b[38;5;241m=\u001b[39m \u001b[38;5;28;43mself\u001b[39;49m\u001b[38;5;241;43m.\u001b[39;49m\u001b[43m_predict\u001b[49m\u001b[43m(\u001b[49m\u001b[43mdataset\u001b[49m\u001b[38;5;241;43m.\u001b[39;49m\u001b[43mloader\u001b[49m\u001b[43m)\u001b[49m\n\u001b[0;32m    138\u001b[0m elapsed \u001b[38;5;241m=\u001b[39m datetime\u001b[38;5;241m.\u001b[39mnow() \u001b[38;5;241m-\u001b[39m start\n\u001b[0;32m    140\u001b[0m \u001b[38;5;28;01mfor\u001b[39;00m name, value \u001b[38;5;129;01min\u001b[39;00m preds\u001b[38;5;241m.\u001b[39mitems():\n",
      "File \u001b[1;32mD:\\anaconda3\\lib\\site-packages\\torch\\autograd\\grad_mode.py:27\u001b[0m, in \u001b[0;36m_DecoratorContextManager.__call__.<locals>.decorate_context\u001b[1;34m(*args, **kwargs)\u001b[0m\n\u001b[0;32m     24\u001b[0m \u001b[38;5;129m@functools\u001b[39m\u001b[38;5;241m.\u001b[39mwraps(func)\n\u001b[0;32m     25\u001b[0m \u001b[38;5;28;01mdef\u001b[39;00m \u001b[38;5;21mdecorate_context\u001b[39m(\u001b[38;5;241m*\u001b[39margs, \u001b[38;5;241m*\u001b[39m\u001b[38;5;241m*\u001b[39mkwargs):\n\u001b[0;32m     26\u001b[0m     \u001b[38;5;28;01mwith\u001b[39;00m \u001b[38;5;28mself\u001b[39m\u001b[38;5;241m.\u001b[39mclone():\n\u001b[1;32m---> 27\u001b[0m         \u001b[38;5;28;01mreturn\u001b[39;00m \u001b[43mfunc\u001b[49m\u001b[43m(\u001b[49m\u001b[38;5;241;43m*\u001b[39;49m\u001b[43margs\u001b[49m\u001b[43m,\u001b[49m\u001b[43m \u001b[49m\u001b[38;5;241;43m*\u001b[39;49m\u001b[38;5;241;43m*\u001b[39;49m\u001b[43mkwargs\u001b[49m\u001b[43m)\u001b[49m\n",
      "File \u001b[1;32mD:\\anaconda3\\lib\\site-packages\\supar\\parsers\\dep.py:223\u001b[0m, in \u001b[0;36mBiaffineDependencyParser._predict\u001b[1;34m(self, loader)\u001b[0m\n\u001b[0;32m    221\u001b[0m mask[:, \u001b[38;5;241m0\u001b[39m] \u001b[38;5;241m=\u001b[39m \u001b[38;5;241m0\u001b[39m\n\u001b[0;32m    222\u001b[0m lens \u001b[38;5;241m=\u001b[39m mask\u001b[38;5;241m.\u001b[39msum(\u001b[38;5;241m1\u001b[39m)\u001b[38;5;241m.\u001b[39mtolist()\n\u001b[1;32m--> 223\u001b[0m s_arc, s_rel \u001b[38;5;241m=\u001b[39m \u001b[38;5;28;43mself\u001b[39;49m\u001b[38;5;241;43m.\u001b[39;49m\u001b[43mmodel\u001b[49m\u001b[43m(\u001b[49m\u001b[43mwords\u001b[49m\u001b[43m,\u001b[49m\u001b[43m \u001b[49m\u001b[43mfeats\u001b[49m\u001b[43m)\u001b[49m\n\u001b[0;32m    224\u001b[0m arc_preds, rel_preds \u001b[38;5;241m=\u001b[39m \u001b[38;5;28mself\u001b[39m\u001b[38;5;241m.\u001b[39mmodel\u001b[38;5;241m.\u001b[39mdecode(s_arc, s_rel, mask, \u001b[38;5;28mself\u001b[39m\u001b[38;5;241m.\u001b[39margs\u001b[38;5;241m.\u001b[39mtree, \u001b[38;5;28mself\u001b[39m\u001b[38;5;241m.\u001b[39margs\u001b[38;5;241m.\u001b[39mproj)\n\u001b[0;32m    225\u001b[0m preds[\u001b[38;5;124m'\u001b[39m\u001b[38;5;124marcs\u001b[39m\u001b[38;5;124m'\u001b[39m]\u001b[38;5;241m.\u001b[39mextend(arc_preds[mask]\u001b[38;5;241m.\u001b[39msplit(lens))\n",
      "File \u001b[1;32mD:\\anaconda3\\lib\\site-packages\\torch\\nn\\modules\\module.py:1110\u001b[0m, in \u001b[0;36mModule._call_impl\u001b[1;34m(self, *input, **kwargs)\u001b[0m\n\u001b[0;32m   1106\u001b[0m \u001b[38;5;66;03m# If we don't have any hooks, we want to skip the rest of the logic in\u001b[39;00m\n\u001b[0;32m   1107\u001b[0m \u001b[38;5;66;03m# this function, and just call forward.\u001b[39;00m\n\u001b[0;32m   1108\u001b[0m \u001b[38;5;28;01mif\u001b[39;00m \u001b[38;5;129;01mnot\u001b[39;00m (\u001b[38;5;28mself\u001b[39m\u001b[38;5;241m.\u001b[39m_backward_hooks \u001b[38;5;129;01mor\u001b[39;00m \u001b[38;5;28mself\u001b[39m\u001b[38;5;241m.\u001b[39m_forward_hooks \u001b[38;5;129;01mor\u001b[39;00m \u001b[38;5;28mself\u001b[39m\u001b[38;5;241m.\u001b[39m_forward_pre_hooks \u001b[38;5;129;01mor\u001b[39;00m _global_backward_hooks\n\u001b[0;32m   1109\u001b[0m         \u001b[38;5;129;01mor\u001b[39;00m _global_forward_hooks \u001b[38;5;129;01mor\u001b[39;00m _global_forward_pre_hooks):\n\u001b[1;32m-> 1110\u001b[0m     \u001b[38;5;28;01mreturn\u001b[39;00m \u001b[43mforward_call\u001b[49m\u001b[43m(\u001b[49m\u001b[38;5;241;43m*\u001b[39;49m\u001b[38;5;28;43minput\u001b[39;49m\u001b[43m,\u001b[49m\u001b[43m \u001b[49m\u001b[38;5;241;43m*\u001b[39;49m\u001b[38;5;241;43m*\u001b[39;49m\u001b[43mkwargs\u001b[49m\u001b[43m)\u001b[49m\n\u001b[0;32m   1111\u001b[0m \u001b[38;5;66;03m# Do not call functions when jit is used\u001b[39;00m\n\u001b[0;32m   1112\u001b[0m full_backward_hooks, non_full_backward_hooks \u001b[38;5;241m=\u001b[39m [], []\n",
      "File \u001b[1;32mD:\\anaconda3\\lib\\site-packages\\supar\\models\\dep.py:160\u001b[0m, in \u001b[0;36mBiaffineDependencyModel.forward\u001b[1;34m(self, words, feats)\u001b[0m\n\u001b[0;32m    142\u001b[0m \u001b[38;5;28;01mdef\u001b[39;00m \u001b[38;5;21mforward\u001b[39m(\u001b[38;5;28mself\u001b[39m, words, feats\u001b[38;5;241m=\u001b[39m\u001b[38;5;28;01mNone\u001b[39;00m):\n\u001b[0;32m    143\u001b[0m     \u001b[38;5;124mr\u001b[39m\u001b[38;5;124;03m\"\"\"\u001b[39;00m\n\u001b[0;32m    144\u001b[0m \u001b[38;5;124;03m    Args:\u001b[39;00m\n\u001b[0;32m    145\u001b[0m \u001b[38;5;124;03m        words (~torch.LongTensor): ``[batch_size, seq_len]``.\u001b[39;00m\n\u001b[1;32m   (...)\u001b[0m\n\u001b[0;32m    157\u001b[0m \u001b[38;5;124;03m            scores of all possible labels on each arc.\u001b[39;00m\n\u001b[0;32m    158\u001b[0m \u001b[38;5;124;03m    \"\"\"\u001b[39;00m\n\u001b[1;32m--> 160\u001b[0m     x \u001b[38;5;241m=\u001b[39m \u001b[38;5;28;43mself\u001b[39;49m\u001b[38;5;241;43m.\u001b[39;49m\u001b[43mencode\u001b[49m\u001b[43m(\u001b[49m\u001b[43mwords\u001b[49m\u001b[43m,\u001b[49m\u001b[43m \u001b[49m\u001b[43mfeats\u001b[49m\u001b[43m)\u001b[49m\n\u001b[0;32m    161\u001b[0m     mask \u001b[38;5;241m=\u001b[39m words\u001b[38;5;241m.\u001b[39mne(\u001b[38;5;28mself\u001b[39m\u001b[38;5;241m.\u001b[39margs\u001b[38;5;241m.\u001b[39mpad_index) \u001b[38;5;28;01mif\u001b[39;00m \u001b[38;5;28mlen\u001b[39m(words\u001b[38;5;241m.\u001b[39mshape) \u001b[38;5;241m<\u001b[39m \u001b[38;5;241m3\u001b[39m \u001b[38;5;28;01melse\u001b[39;00m words\u001b[38;5;241m.\u001b[39mne(\u001b[38;5;28mself\u001b[39m\u001b[38;5;241m.\u001b[39margs\u001b[38;5;241m.\u001b[39mpad_index)\u001b[38;5;241m.\u001b[39many(\u001b[38;5;241m-\u001b[39m\u001b[38;5;241m1\u001b[39m)\n\u001b[0;32m    163\u001b[0m     arc_d \u001b[38;5;241m=\u001b[39m \u001b[38;5;28mself\u001b[39m\u001b[38;5;241m.\u001b[39marc_mlp_d(x)\n",
      "File \u001b[1;32mD:\\anaconda3\\lib\\site-packages\\supar\\models\\model.py:152\u001b[0m, in \u001b[0;36mModel.encode\u001b[1;34m(self, words, feats)\u001b[0m\n\u001b[0;32m    150\u001b[0m \u001b[38;5;28;01mdef\u001b[39;00m \u001b[38;5;21mencode\u001b[39m(\u001b[38;5;28mself\u001b[39m, words, feats\u001b[38;5;241m=\u001b[39m\u001b[38;5;28;01mNone\u001b[39;00m):\n\u001b[0;32m    151\u001b[0m     \u001b[38;5;28;01mif\u001b[39;00m \u001b[38;5;28mself\u001b[39m\u001b[38;5;241m.\u001b[39margs\u001b[38;5;241m.\u001b[39mencoder \u001b[38;5;241m==\u001b[39m \u001b[38;5;124m'\u001b[39m\u001b[38;5;124mlstm\u001b[39m\u001b[38;5;124m'\u001b[39m:\n\u001b[1;32m--> 152\u001b[0m         x \u001b[38;5;241m=\u001b[39m pack_padded_sequence(\u001b[38;5;28;43mself\u001b[39;49m\u001b[38;5;241;43m.\u001b[39;49m\u001b[43membed\u001b[49m\u001b[43m(\u001b[49m\u001b[43mwords\u001b[49m\u001b[43m,\u001b[49m\u001b[43m \u001b[49m\u001b[43mfeats\u001b[49m\u001b[43m)\u001b[49m, words\u001b[38;5;241m.\u001b[39mne(\u001b[38;5;28mself\u001b[39m\u001b[38;5;241m.\u001b[39margs\u001b[38;5;241m.\u001b[39mpad_index)\u001b[38;5;241m.\u001b[39msum(\u001b[38;5;241m1\u001b[39m)\u001b[38;5;241m.\u001b[39mtolist(), \u001b[38;5;28;01mTrue\u001b[39;00m, \u001b[38;5;28;01mFalse\u001b[39;00m)\n\u001b[0;32m    153\u001b[0m         x, _ \u001b[38;5;241m=\u001b[39m \u001b[38;5;28mself\u001b[39m\u001b[38;5;241m.\u001b[39mencoder(x)\n\u001b[0;32m    154\u001b[0m         x, _ \u001b[38;5;241m=\u001b[39m pad_packed_sequence(x, \u001b[38;5;28;01mTrue\u001b[39;00m, total_length\u001b[38;5;241m=\u001b[39mwords\u001b[38;5;241m.\u001b[39mshape[\u001b[38;5;241m1\u001b[39m])\n",
      "File \u001b[1;32mD:\\anaconda3\\lib\\site-packages\\supar\\models\\model.py:141\u001b[0m, in \u001b[0;36mModel.embed\u001b[1;34m(self, words, feats)\u001b[0m\n\u001b[0;32m    139\u001b[0m     feat_embeds\u001b[38;5;241m.\u001b[39mappend(\u001b[38;5;28mself\u001b[39m\u001b[38;5;241m.\u001b[39melmo_embed(feats\u001b[38;5;241m.\u001b[39mpop(\u001b[38;5;241m0\u001b[39m)))\n\u001b[0;32m    140\u001b[0m \u001b[38;5;28;01mif\u001b[39;00m \u001b[38;5;124m'\u001b[39m\u001b[38;5;124mbert\u001b[39m\u001b[38;5;124m'\u001b[39m \u001b[38;5;129;01min\u001b[39;00m \u001b[38;5;28mself\u001b[39m\u001b[38;5;241m.\u001b[39margs\u001b[38;5;241m.\u001b[39mfeat:\n\u001b[1;32m--> 141\u001b[0m     feat_embeds\u001b[38;5;241m.\u001b[39mappend(\u001b[38;5;28mself\u001b[39m\u001b[38;5;241m.\u001b[39mbert_embed(\u001b[43mfeats\u001b[49m\u001b[38;5;241;43m.\u001b[39;49m\u001b[43mpop\u001b[49m\u001b[43m(\u001b[49m\u001b[38;5;241;43m0\u001b[39;49m\u001b[43m)\u001b[49m))\n\u001b[0;32m    142\u001b[0m \u001b[38;5;28;01mif\u001b[39;00m \u001b[38;5;124m'\u001b[39m\u001b[38;5;124mlemma\u001b[39m\u001b[38;5;124m'\u001b[39m \u001b[38;5;129;01min\u001b[39;00m \u001b[38;5;28mself\u001b[39m\u001b[38;5;241m.\u001b[39margs\u001b[38;5;241m.\u001b[39mfeat:\n\u001b[0;32m    143\u001b[0m     feat_embeds\u001b[38;5;241m.\u001b[39mappend(\u001b[38;5;28mself\u001b[39m\u001b[38;5;241m.\u001b[39mlemma_embed(feats\u001b[38;5;241m.\u001b[39mpop(\u001b[38;5;241m0\u001b[39m)))\n",
      "\u001b[1;31mIndexError\u001b[0m: pop from empty list"
     ]
    }
   ],
   "source": [
    "lzh2 = udkanbun.load(BERT=\"guwenbert-base\")"
   ]
  },
  {
   "cell_type": "code",
   "execution_count": null,
   "id": "7d71fd89",
   "metadata": {},
   "outputs": [],
   "source": [
    "s = lzh2(\"太史公曰：五帝、三代之記，尚矣。\\\n",
    "    自殷以前諸侯不可得而譜，周以來乃頗可著。\\\n",
    "        孔子因史文次春秋，紀元年，正時日月，蓋其詳哉。\\\n",
    "            至於序尚書則略，無年月；\\\n",
    "                或頗有，然多闕，不可錄。故疑則傳疑，蓋其慎也。\")\n",
    "\n",
    "print(s)"
   ]
  },
  {
   "cell_type": "code",
   "execution_count": 45,
   "id": "4b0f4374",
   "metadata": {},
   "outputs": [
    {
     "name": "stderr",
     "output_type": "stream",
     "text": [
      " [==================================================] 100% 02:00   \n"
     ]
    },
    {
     "data": {
      "application/vnd.jupyter.widget-view+json": {
       "model_id": "d3f2e3acafee4b6cae19c7e139ca1560",
       "version_major": 2,
       "version_minor": 0
      },
      "text/plain": [
       "Downloading:   0%|          | 0.00/520 [00:00<?, ?B/s]"
      ]
     },
     "metadata": {},
     "output_type": "display_data"
    },
    {
     "data": {
      "application/vnd.jupyter.widget-view+json": {
       "model_id": "385c2cff92f740cf9668b35f744a6260",
       "version_major": 2,
       "version_minor": 0
      },
      "text/plain": [
       "Downloading:   0%|          | 0.00/91.3k [00:00<?, ?B/s]"
      ]
     },
     "metadata": {},
     "output_type": "display_data"
    },
    {
     "data": {
      "application/vnd.jupyter.widget-view+json": {
       "model_id": "d89bbfd071b245c0b1869f901868ab85",
       "version_major": 2,
       "version_minor": 0
      },
      "text/plain": [
       "Downloading:   0%|          | 0.00/1.23G [00:00<?, ?B/s]"
      ]
     },
     "metadata": {},
     "output_type": "display_data"
    },
    {
     "name": "stderr",
     "output_type": "stream",
     "text": [
      "Some weights of the model checkpoint at ethanyt/guwenbert-large were not used when initializing RobertaModel: ['lm_head.decoder.bias', 'lm_head.dense.bias', 'lm_head.bias', 'lm_head.dense.weight', 'lm_head.decoder.weight', 'lm_head.layer_norm.bias', 'lm_head.layer_norm.weight']\n",
      "- This IS expected if you are initializing RobertaModel from the checkpoint of a model trained on another task or with another architecture (e.g. initializing a BertForSequenceClassification model from a BertForPreTraining model).\n",
      "- This IS NOT expected if you are initializing RobertaModel from the checkpoint of a model that you expect to be exactly identical (initializing a BertForSequenceClassification model from a BertForSequenceClassification model).\n"
     ]
    }
   ],
   "source": [
    "lzh3 = udkanbun.load(BERT=\"guwenbert-large\")"
   ]
  },
  {
   "cell_type": "code",
   "execution_count": null,
   "id": "8415067e",
   "metadata": {},
   "outputs": [],
   "source": [
    "s = lzh3(\"太史公曰：五帝、三代之記，尚矣。\\\n",
    "    自殷以前諸侯不可得而譜，周以來乃頗可著。\\\n",
    "        孔子因史文次春秋，紀元年，正時日月，蓋其詳哉。\\\n",
    "            至於序尚書則略，無年月；\\\n",
    "                或頗有，然多闕，不可錄。故疑則傳疑，蓋其慎也。\")\n",
    "\n",
    "print(s)"
   ]
  },
  {
   "cell_type": "markdown",
   "id": "9e96bc85",
   "metadata": {},
   "source": [
    "____"
   ]
  },
  {
   "cell_type": "code",
   "execution_count": 41,
   "id": "1bdc8535",
   "metadata": {},
   "outputs": [
    {
     "name": "stdout",
     "output_type": "stream",
     "text": [
      "{'_': ['_', '_', '_', '0', '_', '_', '_']} \n",
      "\n",
      "{'太': ['VERB', 'v,動詞,描写,量', 'Degree=Pos', '2', 'amod', '_', 'Gloss=very-great|SpaceAfter=No']} \n",
      "\n",
      "{'史': ['NOUN', 'n,名詞,人,役割', '_', '3', 'nmod', '_', 'Gloss=recorder|SpaceAfter=No']} \n",
      "\n",
      "{'公': ['NOUN', 'n,名詞,人,役割', '_', '4', 'nsubj', '_', 'Gloss=duke|SpaceAfter=No']} \n",
      "\n",
      "{'曰': ['VERB', 'v,動詞,行為,伝達', '_', '0', 'root', '_', 'Gloss=say|SpaceAfter=No']} \n",
      "\n",
      "{'：': ['SYM', 's,記号,一般,*', '_', '7', 'nmod', '_', 'SpaceAfter=No']} \n",
      "\n",
      "{'五': ['NUM', 'n,数詞,数字,*', '_', '7', 'nummod', '_', 'Gloss=five|SpaceAfter=No']} \n",
      "\n",
      "{'帝': ['NOUN', 'n,名詞,人,役割', '_', '4', 'obj', '_', 'Gloss=emperor|SpaceAfter=No']} \n",
      "\n",
      "{'、': ['PUNCT', 's,記号,読点,*', '_', '4', 'punct', '_', 'SpaceAfter=No']} \n",
      "\n",
      "{'三': ['NUM', 'n,数詞,数字,*', '_', '2', 'nummod', '_', 'Gloss=three|SpaceAfter=No']} \n",
      "\n",
      "{'代': ['NOUN', 'n,名詞,時,*', 'Case=Tem', '4', 'nsubj', '_', 'Gloss=generation|SpaceAfter=No']} \n",
      "\n",
      "{'之': ['SCONJ', 'p,助詞,接続,属格', '_', '2', 'case', '_', \"Gloss='s|SpaceAfter=No\"]} \n",
      "\n",
      "{'記': ['VERB', 'v,動詞,行為,動作', '_', '6', 'nsubj', '_', 'Gloss=record|SpaceAfter=No|Translit=记']} \n",
      "\n",
      "{'，': ['PUNCT', 's,記号,読点,*', '_', '6', 'advmod', '_', 'SpaceAfter=No']} \n",
      "\n",
      "{'尚': ['VERB', 'v,動詞,行為,態度', '_', '0', 'root', '_', 'Gloss=esteem|SpaceAfter=No']} \n",
      "\n",
      "{'矣': ['PART', 'p,助詞,句末,*', '_', '6', 'discourse:sp', '_', 'Gloss=[PFV]|SpaceAfter=No']} \n",
      "\n",
      "{'。': ['PUNCT', 's,記号,句点,*', '_', '6', 'punct', '_', 'SpaceAfter=No']} \n",
      "\n",
      "{'自': ['ADP', 'v,前置詞,経由,*', '_', '2', 'case', '_', 'Gloss=from|SpaceAfter=No']} \n",
      "\n",
      "{'殷': ['PROPN', 'n,名詞,主体,国名', 'Case=Loc|NameType=Nat', '3', 'advcl', '_', 'Gloss=[country-name]|SpaceAfter=No']} \n",
      "\n",
      "{'以': ['VERB', 'v,動詞,行為,動作', '_', '9', 'advcl', '_', 'Gloss=use|SpaceAfter=No']} \n",
      "\n",
      "{'前': ['NOUN', 'n,名詞,時,*', 'Case=Tem', '6', 'nmod', '_', 'Gloss=before|SpaceAfter=No']} \n",
      "\n",
      "{'諸': ['NOUN', 'n,名詞,数量,*', '_', '6', 'nmod', '_', 'Gloss=[plural]|SpaceAfter=No|Translit=诸']} \n",
      "\n",
      "{'侯': ['NOUN', 'n,名詞,人,役割', '_', '3', 'obj', '_', 'Gloss=marquis|SpaceAfter=No']} \n",
      "\n",
      "{'不': ['ADV', 'v,副詞,否定,無界', 'Polarity=Neg', '8', 'advmod', '_', 'Gloss=not|SpaceAfter=No']} \n",
      "\n",
      "{'可': ['AUX', 'v,助動詞,可能,*', 'Mood=Pot', '9', 'aux', '_', 'Gloss=possible|SpaceAfter=No']} \n",
      "\n",
      "{'得': ['VERB', 'v,動詞,行為,得失', '_', '12', 'aux', '_', 'Gloss=get|SpaceAfter=No']} \n",
      "\n",
      "{'而': ['CCONJ', 'p,助詞,接続,並列', '_', '11', 'cc', '_', 'Gloss=and|SpaceAfter=No']} \n",
      "\n",
      "{'譜': ['NOUN', 'n,名詞,*,*', '_', '9', 'conj', '_', 'SpaceAfter=No']} \n",
      "\n",
      "{'，': ['PUNCT', 's,記号,読点,*', '_', '15', 'cc', '_', 'SpaceAfter=No']} \n",
      "\n",
      "{'周': ['PROPN', 'n,名詞,主体,国名', 'Case=Loc|NameType=Nat', '15', 'nsubj', '_', 'Gloss=[country-name]|SpaceAfter=No']} \n",
      "\n",
      "{'以': ['VERB', 'v,動詞,行為,動作', '_', '15', 'advmod', '_', 'Gloss=use|SpaceAfter=No']} \n",
      "\n",
      "{'來': ['VERB', 'v,動詞,行為,移動', '_', '19', 'advcl', '_', 'Gloss=come|SpaceAfter=No|Translit=来']} \n",
      "\n",
      "{'乃': ['ADV', 'v,副詞,時相,緊接', 'AdvType=Tim', '19', 'advmod', '_', 'Gloss=then|SpaceAfter=No']} \n",
      "\n",
      "{'頗': ['ADV', 'v,副詞,程度,極度', 'AdvType=Deg|Degree=Sup', '19', 'advmod', '_', 'Gloss=quite|SpaceAfter=No|Translit=颇']} \n",
      "\n",
      "{'可': ['AUX', 'v,助動詞,可能,*', 'Mood=Pot', '19', 'aux', '_', 'Gloss=possible|SpaceAfter=No']} \n",
      "\n",
      "{'著': ['VERB', 'v,動詞,描写,形質', 'Degree=Pos', '0', 'root', '_', 'Gloss=appear|SpaceAfter=No']} \n",
      "\n",
      "{'。': ['PUNCT', 's,記号,句点,*', '_', '19', 'punct', '_', 'SpaceAfter=No']} \n",
      "\n",
      "{'孔子': ['PROPN', 'n,名詞,人,複合的人名', 'NameType=Prs', '8', 'nsubj', '_', 'Gloss=Confucius|SpaceAfter=No']} \n",
      "\n",
      "{'因': ['VERB', 'v,動詞,行為,動作', '_', '8', 'advcl', '_', 'Gloss=depend-on|SpaceAfter=No']} \n",
      "\n",
      "{'史': ['PROPN', 'n,名詞,人,姓氏', 'NameType=Sur', '2', 'obj', '_', 'Gloss=[surname]|SpaceAfter=No']} \n",
      "\n",
      "{'文': ['PROPN', 'n,名詞,人,名', 'NameType=Giv', '3', 'flat', '_', 'Gloss=[given-name]|SpaceAfter=No']} \n",
      "\n",
      "{'次': ['VERB', 'v,動詞,行為,設置', '_', '2', 'parataxis', '_', 'Gloss=arrange-in-order|SpaceAfter=No']} \n",
      "\n",
      "{'春秋': ['NOUN', 'n,名詞,主体,書物', '_', '5', 'obj', '_', 'Gloss=[book-name]|SpaceAfter=No']} \n",
      "\n",
      "{'，': ['PUNCT', 's,記号,読点,*', '_', '8', 'advmod', '_', 'SpaceAfter=No']} \n",
      "\n",
      "{'紀': ['VERB', 'v,動詞,行為,動作', '_', '16', 'acl', '_', 'Gloss=regulate|SpaceAfter=No|Translit=纪']} \n",
      "\n",
      "{'元': ['NOUN', 'n,名詞,描写,形質', '_', '10', 'nmod', '_', 'Gloss=basic|SpaceAfter=No']} \n",
      "\n",
      "{'年': ['NOUN', 'n,名詞,時,*', 'Case=Tem', '8', 'obj', '_', 'Gloss=year|SpaceAfter=No']} \n",
      "\n",
      "{'，': ['PUNCT', 's,記号,読点,*', '_', '12', 'cc', '_', 'SpaceAfter=No']} \n",
      "\n",
      "{'正': ['VERB', 'v,動詞,描写,形質', 'Degree=Pos', '8', 'conj', '_', 'Gloss=correct|SpaceAfter=No']} \n",
      "\n",
      "{'時': ['NOUN', 'n,名詞,時,*', 'Case=Tem', '14', 'nmod', '_', 'Gloss=time|SpaceAfter=No|Translit=时']} \n",
      "\n",
      "{'日': ['NOUN', 'n,名詞,天象,天文', '_', '12', 'obj', '_', 'Gloss=sun|SpaceAfter=No']} \n",
      "\n",
      "{'月': ['NOUN', 'n,名詞,天象,天文', '_', '14', 'conj', '_', 'Gloss=moon|SpaceAfter=No']} \n",
      "\n",
      "{'，': ['PUNCT', 's,記号,読点,*', '_', '19', 'advmod', '_', 'SpaceAfter=No']} \n",
      "\n",
      "{'蓋': ['PART', 'p,助詞,句頭,*', '_', '19', 'discourse', '_', 'Gloss=why-not|SpaceAfter=No|Translit=盖']} \n",
      "\n",
      "{'其': ['PRON', 'n,代名詞,人称,起格', 'Person=3|PronType=Prs', '19', 'nsubj', '_', 'Gloss=[3PRON]|SpaceAfter=No']} \n",
      "\n",
      "{'詳': ['VERB', 'v,動詞,描写,形質', 'Degree=Pos', '0', 'root', '_', 'Gloss=detailed|SpaceAfter=No|Translit=详']} \n",
      "\n",
      "{'哉': ['PART', 'p,助詞,句末,*', '_', '19', 'discourse:sp', '_', 'Gloss=[exclamatory-particle]|SpaceAfter=No']} \n",
      "\n",
      "{'。': ['PUNCT', 's,記号,句点,*', '_', '19', 'punct', '_', 'SpaceAfter=No']} \n",
      "\n",
      "{'至': ['VERB', 'v,動詞,行為,移動', '_', '12', 'advcl', '_', 'Gloss=arrive|SpaceAfter=No']} \n",
      "\n",
      "{'於': ['ADP', 'v,前置詞,基盤,*', '_', '3', 'case', '_', 'Gloss=at|SpaceAfter=No|Translit=于']} \n",
      "\n",
      "{'序': ['NOUN', 'n,名詞,固定物,関係', 'Case=Loc', '1', 'obl', '_', 'Gloss=order|SpaceAfter=No']} \n",
      "\n",
      "{'尚': ['VERB', 'v,動詞,行為,態度', '_', '5', 'amod', '_', 'Gloss=esteem|SpaceAfter=No']} \n",
      "\n",
      "{'書': ['NOUN', 'n,名詞,主体,書物', '_', '3', 'obj', '_', 'Gloss=written-document|SpaceAfter=No|Translit=书']} \n",
      "\n",
      "{'則': ['ADV', 'v,副詞,時相,緊接', 'AdvType=Tim', '12', 'advmod', '_', 'Gloss=then|SpaceAfter=No|Translit=则']} \n",
      "\n",
      "{'略': ['NOUN', 'n,名詞,可搬,伝達', '_', '12', 'nsubj', '_', 'Gloss=plan|SpaceAfter=No']} \n",
      "\n",
      "{'，': ['PUNCT', 's,記号,読点,*', '_', '12', 'advmod', '_', 'SpaceAfter=No']} \n",
      "\n",
      "{'無': ['VERB', 'v,動詞,存在,存在', 'Polarity=Neg', '10', 'amod', '_', 'Gloss=not-have|SpaceAfter=No|Translit=无']} \n",
      "\n",
      "{'年': ['NOUN', 'n,名詞,時,*', 'Case=Tem', '12', 'obl:tmod', '_', 'Gloss=year|SpaceAfter=No']} \n",
      "\n",
      "{'月': ['NOUN', 'n,名詞,時,*', 'Case=Tem', '10', 'conj', '_', 'Gloss=month|SpaceAfter=No']} \n",
      "\n",
      "{'；': ['SYM', 's,記号,一般,*', '_', '16', 'conj', '_', 'SpaceAfter=No']} \n",
      "\n",
      "{'或': ['PRON', 'n,代名詞,人称,起格', 'PronType=Prs', '15', 'nsubj', '_', 'Gloss=someone|SpaceAfter=No']} \n",
      "\n",
      "{'頗': ['ADV', 'v,副詞,程度,極度', 'AdvType=Deg|Degree=Sup', '15', 'advmod', '_', 'Gloss=quite|SpaceAfter=No|Translit=颇']} \n",
      "\n",
      "{'有': ['VERB', 'v,動詞,存在,存在', '_', '12', 'ccomp', '_', 'Gloss=have|SpaceAfter=No']} \n",
      "\n",
      "{'，': ['PUNCT', 's,記号,読点,*', '_', '20', 'advmod', '_', 'SpaceAfter=No']} \n",
      "\n",
      "{'然': ['PART', 'p,接尾辞,*,*', '_', '16', 'fixed', '_', 'Gloss=[suffix]|SpaceAfter=No']} \n",
      "\n",
      "{'多': ['VERB', 'v,動詞,描写,量', 'Degree=Pos', '20', 'advmod', '_', 'Gloss=many|SpaceAfter=No']} \n",
      "\n",
      "{'闕': ['PROPN', 'n,名詞,固定物,地名', 'Case=Loc|NameType=Geo', '18', 'obj', '_', 'Gloss=[place-name]|SpaceAfter=No|Translit=阙']} \n",
      "\n",
      "{'，': ['PUNCT', 's,記号,読点,*', '_', '23', 'advmod', '_', 'SpaceAfter=No']} \n",
      "\n",
      "{'不': ['ADV', 'v,副詞,否定,無界', 'Polarity=Neg', '22', 'advmod', '_', 'Gloss=not|SpaceAfter=No']} \n",
      "\n",
      "{'可': ['AUX', 'v,助動詞,可能,*', 'Mood=Pot', '23', 'aux', '_', 'Gloss=possible|SpaceAfter=No']} \n",
      "\n",
      "{'錄': ['VERB', 'v,動詞,行為,動作', '_', '0', 'root', '_', 'SpaceAfter=No|Translit=录']} \n",
      "\n",
      "{'。': ['PUNCT', 's,記号,句点,*', '_', '23', 'punct', '_', 'SpaceAfter=No']} \n",
      "\n",
      "{'故': ['ADV', 'v,副詞,判断,確定', '_', '2', 'advmod', '_', 'Gloss=therefore|SpaceAfter=No']} \n",
      "\n",
      "{'疑': ['VERB', 'v,動詞,行為,態度', '_', '4', 'advcl', '_', 'Gloss=suspect|SpaceAfter=No']} \n",
      "\n",
      "{'則': ['ADV', 'v,副詞,時相,緊接', 'AdvType=Tim', '4', 'advmod', '_', 'Gloss=then|SpaceAfter=No|Translit=则']} \n",
      "\n",
      "{'傳': ['VERB', 'v,動詞,行為,伝達', '_', '6', 'conj', '_', 'Gloss=transmit|SpaceAfter=No|Translit=传']} \n",
      "\n",
      "{'疑': ['VERB', 'v,動詞,行為,態度', '_', '4', 'obj', '_', 'Gloss=suspect|SpaceAfter=No']} \n",
      "\n",
      "{'，': ['PUNCT', 's,記号,読点,*', '_', '9', 'advmod', '_', 'SpaceAfter=No']} \n",
      "\n",
      "{'蓋': ['PART', 'p,助詞,句頭,*', '_', '9', 'discourse', '_', 'Gloss=why-not|SpaceAfter=No|Translit=盖']} \n",
      "\n",
      "{'其': ['PRON', 'n,代名詞,人称,起格', 'Person=3|PronType=Prs', '9', 'det', '_', 'Gloss=[3PRON]|SpaceAfter=No']} \n",
      "\n",
      "{'慎': ['VERB', 'v,動詞,行為,態度', '_', '0', 'root', '_', 'Gloss=careful|SpaceAfter=No']} \n",
      "\n",
      "{'也': ['PART', 'p,助詞,句末,*', '_', '9', 'discourse:sp', '_', 'Gloss=[final-particle]|SpaceAfter=No']} \n",
      "\n",
      "{'。': ['PUNCT', 's,記号,句点,*', '_', '9', 'punct', '_', 'SpaceAfter=No']} \n",
      "\n"
     ]
    }
   ],
   "source": [
    "new_s = {}\n",
    "for i, row in enumerate(s) :\n",
    "    str_s = str(row).split(\"\\t\")\n",
    "    new_s[i] = {str_s[1]: [str_s[3], str_s[4], str_s[5], str_s[6], str_s[7], str_s[8], str_s[9]]}\n",
    "for ns in new_s :\n",
    "    print(new_s[ns])"
   ]
  },
  {
   "cell_type": "code",
   "execution_count": null,
   "id": "68542a10",
   "metadata": {},
   "outputs": [],
   "source": []
  }
 ],
 "metadata": {
  "kernelspec": {
   "display_name": "Python 3 (ipykernel)",
   "language": "python",
   "name": "python3"
  },
  "language_info": {
   "codemirror_mode": {
    "name": "ipython",
    "version": 3
   },
   "file_extension": ".py",
   "mimetype": "text/x-python",
   "name": "python",
   "nbconvert_exporter": "python",
   "pygments_lexer": "ipython3",
   "version": "3.8.5"
  }
 },
 "nbformat": 4,
 "nbformat_minor": 5
}
